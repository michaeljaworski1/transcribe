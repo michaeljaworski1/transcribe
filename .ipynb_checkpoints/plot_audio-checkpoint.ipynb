{
 "cells": [
  {
   "cell_type": "code",
   "execution_count": 4,
   "id": "2adcc4c2",
   "metadata": {},
   "outputs": [],
   "source": [
    "from scipy.io.wavfile import read\n",
    "import numpy as np\n",
    "import matplotlib.pyplot as plt"
   ]
  },
  {
   "cell_type": "code",
   "execution_count": 5,
   "id": "04a88b34",
   "metadata": {},
   "outputs": [
    {
     "name": "stdout",
     "output_type": "stream",
     "text": [
      "44100\n"
     ]
    }
   ],
   "source": [
    "# Read the Audiofile\n",
    "samplerate, data = read('data/output.wav')\n",
    "# Frame rate for the Audio\n",
    "print(samplerate)"
   ]
  },
  {
   "cell_type": "code",
   "execution_count": 6,
   "id": "1f8bb03b",
   "metadata": {},
   "outputs": [
    {
     "name": "stdout",
     "output_type": "stream",
     "text": [
      "Duration of Audio in Seconds 6721.070975056689\n",
      "Duration of Audio in Minutes 112.01784958427815\n"
     ]
    }
   ],
   "source": [
    "# Duration of the audio in Seconds\n",
    "duration = len(data)/samplerate\n",
    "print(\"Duration of Audio in Seconds\", duration)\n",
    "print(\"Duration of Audio in Minutes\", duration/60)"
   ]
  },
  {
   "cell_type": "code",
   "execution_count": 7,
   "id": "ddb6389f",
   "metadata": {},
   "outputs": [],
   "source": [
    "time = np.arange(0,duration,1/samplerate)"
   ]
  },
  {
   "cell_type": "code",
   "execution_count": 8,
   "id": "f17123ae",
   "metadata": {},
   "outputs": [
    {
     "data": {
      "image/png": "[encoded data removed]",
      "text/plain": [
       "<Figure size 432x288 with 1 Axes>"
      ]
     },
     "metadata": {
      "needs_background": "light"
     },
     "output_type": "display_data"
    }
   ],
   "source": [
    "# Plotting the Graph using Matplotlib\n",
    "plt.plot(time,data)\n",
    "plt.xlabel('Time [s]')\n",
    "plt.ylabel('Amplitude')\n",
    "plt.title('6TU5302374.wav')\n",
    "plt.show()"
   ]
  },
  {
   "cell_type": "code",
   "execution_count": 11,
   "id": "51c38d0e",
   "metadata": {},
   "outputs": [],
   "source": [
    "# Read the Audiofile\n",
    "samplerate, data = read('data/LAW4702_CL_S2_Class_-audio (1).mp3')\n",
    "# Frame rate for the Audio\n",
    "print(samplerate)\n",
    "\n",
    "# Duration of the audio in Seconds\n",
    "duration = len(data)/samplerate\n",
    "print(\"Duration of Audio in Seconds\", duration)\n",
    "print(\"Duration of Audio in Minutes\", duration/60)\n",
    "\n",
    "time = np.arange(0,duration,1/samplerate)\n",
    "\n",
    "# Plotting the Graph using Matplotlib\n",
    "plt.plot(time,data)\n",
    "plt.xlabel('Time [s]')\n",
    "plt.ylabel('Amplitude')\n",
    "plt.title('6TU5302374.wav')\n",
    "plt.show()"
   ]
  },
  {
   "cell_type": "code",
   "execution_count": null,
   "id": "4f52525b",
   "metadata": {},
   "outputs": [],
   "source": []
  },
  {
   "cell_type": "code",
   "execution_count": null,
   "id": "cd10eb94",
   "metadata": {},
   "outputs": [],
   "source": []
  },
  {
   "cell_type": "code",
   "execution_count": null,
   "id": "16b65d18",
   "metadata": {},
   "outputs": [],
   "source": []
  },
  {
   "cell_type": "code",
   "execution_count": null,
   "id": "b843ea74",
   "metadata": {},
   "outputs": [],
   "source": []
  },
  {
   "cell_type": "code",
   "execution_count": null,
   "id": "2e3aa07f",
   "metadata": {},
   "outputs": [],
   "source": []
  }
 ],
 "metadata": {
  "kernelspec": {
   "display_name": "Python 3 (ipykernel)",
   "language": "python",
   "name": "python3"
  },
  "language_info": {
   "codemirror_mode": {
    "name": "ipython",
    "version": 3
   },
   "file_extension": ".py",
   "mimetype": "text/x-python",
   "name": "python",
   "nbconvert_exporter": "python",
   "pygments_lexer": "ipython3",
   "version": "3.8.8"
  }
 },
 "nbformat": 4,
 "nbformat_minor": 5
}
